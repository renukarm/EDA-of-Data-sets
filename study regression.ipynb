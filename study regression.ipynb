{
 "cells": [
  {
   "cell_type": "code",
   "execution_count": 1,
   "id": "0073e1c7",
   "metadata": {
    "scrolled": true
   },
   "outputs": [
    {
     "name": "stdout",
     "output_type": "stream",
     "text": [
      "   Hours  Scores\n",
      "0    2.5      21\n",
      "1    5.1      47\n",
      "2    3.2      27\n",
      "3    8.5      75\n",
      "4    3.5      30\n",
      "Hours     float64\n",
      "Scores      int64\n",
      "dtype: object\n"
     ]
    }
   ],
   "source": [
    "import pandas as pd\n",
    "import numpy as np\n",
    "df=pd.read_csv(\"https://raw.githubusercontent.com/AdiPersonalWorks/Random/master/student_scores%20-%20student_scores.csv\")\n",
    "print(df.head())\n",
    "print(df.dtypes)"
   ]
  },
  {
   "cell_type": "code",
   "execution_count": 2,
   "id": "0d755cb3",
   "metadata": {},
   "outputs": [
    {
     "data": {
      "image/png": "[encoded data removed]",
      "text/plain": [
       "<Figure size 432x288 with 1 Axes>"
      ]
     },
     "metadata": {
      "needs_background": "light"
     },
     "output_type": "display_data"
    }
   ],
   "source": [
    "import matplotlib.pyplot as plt\n",
    "from scipy.stats import linregress\n",
    "(slope, intercept, rvalue, pvalue, stderr)=linregress(df[\"Hours\"],df[\"Scores\"])\n",
    "plt.scatter(x=\"Hours\",y=\"Scores\",data=df,label=\"Student score\")\n",
    "y_pred = intercept + slope*df[\"Hours\"]\n",
    "plt.plot(df[\"Hours\"],y_pred, color=\"green\", label=\"Regression line\")\n",
    "plt.legend(loc=\"best\")\n",
    "plt.xlabel(\"Hours Studied\")\n",
    "plt.ylabel(\"Scores\")\n",
    "plt.show()"
   ]
  },
  {
   "cell_type": "code",
   "execution_count": 16,
   "id": "98f45d10",
   "metadata": {
    "scrolled": true
   },
   "outputs": [
    {
     "name": "stdout",
     "output_type": "stream",
     "text": [
      "    Hours_s  Predictions  actual\n",
      "0       2.5    26.923182      21\n",
      "1       5.1    52.340271      47\n",
      "2       3.2    33.766244      27\n",
      "3       8.5    85.578002      75\n",
      "4       3.5    36.698985      30\n",
      "5       1.5    17.147378      20\n",
      "6       9.2    92.421065      88\n",
      "7       5.5    56.250592      60\n",
      "8       8.3    83.622842      81\n",
      "9       2.7    28.878343      25\n",
      "10      7.7    77.757360      85\n",
      "11      5.9    60.160913      62\n",
      "12      4.5    46.474789      41\n",
      "13      3.3    34.743825      42\n",
      "14      1.1    13.237057      17\n",
      "15      8.9    89.488324      95\n",
      "16      2.5    26.923182      30\n",
      "17      1.9    21.057700      24\n",
      "18      6.1    62.116074      67\n",
      "19      7.4    74.824618      69\n",
      "20      2.7    28.878343      30\n",
      "21      4.8    49.407530      54\n",
      "22      3.8    39.631726      35\n",
      "23      6.9    69.936717      76\n",
      "24      7.8    78.734940      86\n"
     ]
    }
   ],
   "source": [
    "y_pred = intercept + slope*df[\"Hours\"]\n",
    "test_df=pd.DataFrame({\"Hours_s\":df[\"Hours\"],\"Predictions\":y_pred,\"actual\":df[\"Scores\"]})\n",
    "print(test_df)"
   ]
  },
  {
   "cell_type": "code",
   "execution_count": 5,
   "id": "1248299f",
   "metadata": {},
   "outputs": [
    {
     "name": "stdout",
     "output_type": "stream",
     "text": [
      "Score if studied for 9.25 Hrs is 92.90985477015731\n"
     ]
    }
   ],
   "source": [
    "#Score prediction\n",
    "a=9.25\n",
    "y_predict = intercept + slope*a\n",
    "print(\"Score if studied for\",a,\"Hrs is\",y_predict)"
   ]
  },
  {
   "cell_type": "code",
   "execution_count": 25,
   "id": "8a0555ab",
   "metadata": {},
   "outputs": [],
   "source": []
  },
  {
   "cell_type": "code",
   "execution_count": null,
   "id": "ddf9a98b",
   "metadata": {},
   "outputs": [],
   "source": []
  }
 ],
 "metadata": {
  "kernelspec": {
   "display_name": "Python 3",
   "language": "python",
   "name": "python3"
  },
  "language_info": {
   "codemirror_mode": {
    "name": "ipython",
    "version": 3
   },
   "file_extension": ".py",
   "mimetype": "text/x-python",
   "name": "python",
   "nbconvert_exporter": "python",
   "pygments_lexer": "ipython3",
   "version": "3.8.8"
  }
 },
 "nbformat": 4,
 "nbformat_minor": 5
}
